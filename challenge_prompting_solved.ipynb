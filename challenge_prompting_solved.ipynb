{
 "cells": [
  {
   "cell_type": "markdown",
   "id": "92de8ca4-7181-45f5-9980-b723d2566f5e",
   "metadata": {},
   "source": [
    "# Challenge Prompting\n",
    "\n",
    "Resolver los siguientes ejercicios dejando el codigo con su ejecucion.\n",
    "\n",
    "Importar las librerias necesarias y **correr las celdas para visualizar el resultado en cada ejercicio**."
   ]
  },
  {
   "cell_type": "code",
   "execution_count": 10,
   "id": "d65bbb09-0f5a-4e97-9a06-2361c5cdd1bd",
   "metadata": {},
   "outputs": [],
   "source": [
    "## bloque importacion de librerias\n",
    "\n",
    "import json\n",
    "import ipywidgets as widgets\n",
    "from IPython.display import display, clear_output"
   ]
  },
  {
   "cell_type": "code",
   "execution_count": 1,
   "id": "e004e5b7-b704-4592-b8b4-b01b8d6687cb",
   "metadata": {},
   "outputs": [
    {
     "name": "stdout",
     "output_type": "stream",
     "text": [
      "tEKdKO2dEbdOaL02QOJIb2bjhKaAAugqAE1uODtr\n"
     ]
    }
   ],
   "source": [
    "## bloque variables de entorno\n",
    "from dotenv import load_dotenv\n",
    "import os\n",
    "\n",
    "load_dotenv()  # Load .env file\n",
    "\n",
    "api_key = os.getenv(\"COHERE_API_KEY\")\n",
    "print(api_key)  # Verify the key is loaded\n"
   ]
  },
  {
   "cell_type": "code",
   "execution_count": 2,
   "id": "cd6745ff-cd45-4231-b3d6-518954a9ffca",
   "metadata": {},
   "outputs": [
    {
     "name": "stdout",
     "output_type": "stream",
     "text": [
      "Hello! How can I help you today?\n"
     ]
    }
   ],
   "source": [
    "## bloque conexion a Cohere\n",
    "import cohere\n",
    "co = cohere.ClientV2()\n",
    "# alternativa:\n",
    "# co = cohere.ClientV2(api_key)\n",
    "\n",
    "response = co.chat(\n",
    "    model=\"command-r-plus-08-2024\",\n",
    "    messages=[{\"role\": \"user\", \"content\": \"hello world!\"}],\n",
    ")\n",
    "\n",
    "print(response.message.content[0].text)\n",
    "\n"
   ]
  },
  {
   "cell_type": "markdown",
   "id": "9aacdb26-ce51-49cc-b37f-5aa45c09ff51",
   "metadata": {},
   "source": [
    "## Ejercicio 1\n",
    "\n",
    "Extraccion de entidades\n",
    "\n",
    "Utilizar el LLM para extraer las siguientes entidades del texto medico.\n",
    "\n",
    "- Paciente:\n",
    "    - Nombre\n",
    "    - Edad\n",
    "- Fecha de admisión\n",
    "- Síntomas\n",
    "- Diagnóstico\n",
    "- Tratamiento recomendado\n",
    "\n",
    "**Aclaracion:** \n",
    "\n",
    "La salida tiene que ser un **string con formato de tipo json**, el cual se convertira en un diccionario de Python.\n",
    "\n",
    "Si la linea de conversion en test da error el ejercicio no esta completo."
   ]
  },
  {
   "cell_type": "code",
   "execution_count": null,
   "id": "750e43d7-b074-4973-9cd0-5a6fbe816084",
   "metadata": {},
   "outputs": [],
   "source": [
    "# ejemplo \n",
    "\n",
    "# texto a analizar\n",
    "\"\"\"La paciente, María González, de 45 años, fue admitida en el Hospital Central el 5 de agosto de 2023 debido a síntomas de fatiga crónica y dolores musculares./\n",
    "Tras una serie de análisis, se diagnosticó fibromialgia. La doctora a cargo, Laura Ramírez, recomendó un tratamiento basado en fisioterapia y medicamentos analgésicos. /\n",
    "La próxima consulta está programada para el 15 de septiembre.\"\"\"\n",
    "\n",
    "\n",
    "# respuesta del LLM\n",
    "{\n",
    "  \"paciente\": {\n",
    "    \"nombre\": \"María González\",\n",
    "    \"edad\": 45\n",
    "  },\n",
    "  \"fecha_admision\": \"2023-08-05\",\n",
    "  \"sintomas\": [\n",
    "    \"fatiga crónica\",\n",
    "    \"dolores musculares\"\n",
    "  ],\n",
    "  \"diagnostico\": \"fibromialgia\",\n",
    "  \"tratamiento\": [\n",
    "    \"fisioterapia\",\n",
    "    \"medicamentos analgésicos\"\n",
    "  ]\n",
    "}"
   ]
  },
  {
   "cell_type": "code",
   "execution_count": null,
   "id": "0ac8d0a6-db5c-4eec-9f71-89e60ceaf914",
   "metadata": {},
   "outputs": [],
   "source": [
    "#####"
   ]
  },
  {
   "cell_type": "code",
   "execution_count": 33,
   "id": "425cffab-9efd-4d80-bc64-6ef69ce233e1",
   "metadata": {},
   "outputs": [],
   "source": [
    "text_to_analize = \"\"\"Sofía López, de 28 años, ingresó al Hospital Infantil el 3 de abril de 2023 debido a fiebre alta y tos persistente./\n",
    "Después de varias pruebas, se le diagnosticó neumonía. La pediatra responsable, Dra. Claudia Torres, indicó tratamiento con antibióticos y reposo./\n",
    "La próxima evaluación será el 10 de abril.\"\"\""
   ]
  },
  {
   "cell_type": "code",
   "execution_count": 34,
   "id": "2ff6d292-d4cb-4484-811e-d0d641c66d1c",
   "metadata": {},
   "outputs": [],
   "source": [
    "# your code here\n",
    "\n",
    "# \n",
    "system_prompt = \"\"\"\n",
    "se te proporcionará un texto medico, tu tarea es extraer las siguientes entidades: \n",
    "- paciente: nombre, edad(entero)\n",
    "- fecha de admision (yyyy-MM-dd)\n",
    "- sintomas\n",
    "- Diagnostico\n",
    "- Tratamiento \n",
    "\n",
    "en caso de ser varios sintomas o tratamientos devolver lista \n",
    "\"\"\"\n",
    "prompt = f\"\"\"\n",
    "    Extrae las entidades del siguiente texto medico: {text_to_analize}\n",
    "\"\"\"\n",
    "\n",
    "response = co.chat(\n",
    "    model=\"command-r-plus-08-2024\",\n",
    "    messages=[\n",
    "        {\"role\": \"system\", \"content\": system_prompt},\n",
    "        {\"role\": \"user\", \"content\": prompt}\n",
    "    ],\n",
    "    response_format= { \"type\": \"json_object\" }\n",
    ")\n",
    "\n",
    "llm_response = response.message.content[0].text\n"
   ]
  },
  {
   "cell_type": "code",
   "execution_count": 35,
   "id": "6f6f0009-8a9c-49a3-b740-d73e0dbe765e",
   "metadata": {},
   "outputs": [],
   "source": [
    "# test\n",
    "\n",
    "final_result = json.loads(llm_response)"
   ]
  },
  {
   "cell_type": "code",
   "execution_count": 36,
   "id": "097ee190-faca-46d8-9c11-0f8904bd1752",
   "metadata": {},
   "outputs": [
    {
     "name": "stdout",
     "output_type": "stream",
     "text": [
      "{'paciente': {'nombre': 'Sofía López', 'edad': 28}, 'fecha_de_admision': '2023-04-03', 'sintomas': ['fiebre alta', 'tos persistente'], 'diagnostico': 'neumonía', 'tratamiento': ['antibióticos', 'reposo']}\n"
     ]
    }
   ],
   "source": [
    "print(final_result)"
   ]
  },
  {
   "cell_type": "markdown",
   "id": "b37fbf25-6db4-432a-82c4-2e7edce27686",
   "metadata": {},
   "source": [
    "## Ejercicio 2\n",
    "\n",
    "Tenemos dos funciones en Python, una llamada *'add_contact'* y otra llamada *'get_information'*.\n",
    "\n",
    "**Utilizar algun LLM que permita funtion calling** y desarrollar un codigo secuencial automatico que consiga:\n",
    "\n",
    "Interpretar la consulta del usuario, identificar a que funcion llamar, luego llamarla (si es que aplica) y darle una respuesta final al usuario.  (usar function calling para esta solucion)\n",
    "\n",
    "La entrada a dicho codigo es la consulta del usuario, a continuacion algunos ejemplos:\n",
    "\n",
    "- \"Agrega a Juan Pérez con el número 555-1234 y el correo juanperez@mail.com.\"\n",
    "- \"Guarda a Lucía Gómez en mis contactos. Su teléfono es 555-5678 y su email es lucia.gomez@gmail.com.\"\n",
    "- \"Cual es el Email de Juan Pérez.?\"\n",
    "\n",
    "Salidas esperadas de dichos ejemplos (variaran porque las genera el LLM):\n",
    "-  El contacto fue anadido con exito\n",
    "-  Se anadio el contacto\n",
    "-  El email de juan perez es juanperez@mail.com\n",
    "\n",
    "Link de ayuda: https://github.com/cohere-ai/notebooks/blob/main/notebooks/agents/Vanilla_Tool_Use_v2.ipynb"
   ]
  },
  {
   "cell_type": "code",
   "execution_count": 30,
   "id": "961c0b39",
   "metadata": {},
   "outputs": [],
   "source": [
    "contacts = {'Joaquin Lopez':{'phone': '15456663258', 'email': 'Joacolocolopez@gmail.com'},\n",
    "                  'Flavio Oncativo':{'phone': '1545554178', 'email': 'FOncativo@hotmail.com'}\n",
    "           }"
   ]
  },
  {
   "cell_type": "code",
   "execution_count": 18,
   "id": "c6e43cb9-5e6a-4807-9818-c85408f1ba58",
   "metadata": {},
   "outputs": [],
   "source": [
    "def add_contact(name, phone, email):\n",
    "    \"\"\"\n",
    "    Agrega un contacto al diccionario.\n",
    "    Parámetros:\n",
    "        name (str): Nombre del contacto.\n",
    "        phone (str): Número de teléfono del contacto.\n",
    "        email (str): Correo electrónico del contacto.\n",
    "    Retorna:\n",
    "        str: Mensaje confirmando la adición del contacto.\n",
    "    \"\"\"\n",
    "    contacts[name] = {'phone': phone, 'email': email}\n",
    "    return \"Contacto añadido con éxito.\"\n",
    "\n",
    "def get_information(name):\n",
    "    \"\"\"\n",
    "    Recupera la información de un contacto.\n",
    "    Parámetros:\n",
    "        name (str): Nombre del contacto.\n",
    "    Retorna:\n",
    "        dict/str: Información del contacto o un mensaje si no existe.\n",
    "    \"\"\"\n",
    "    if name in contacts:\n",
    "        return contacts[name]\n",
    "    else:\n",
    "        return \"Contacto no encontrado.\""
   ]
  },
  {
   "cell_type": "code",
   "execution_count": 19,
   "id": "bdb6da0a-7503-4cf2-87cc-c64724b26aa0",
   "metadata": {},
   "outputs": [],
   "source": [
    "# mapa de funciones\n",
    "functions_map = {\n",
    "    \"add_contact\": add_contact,\n",
    "    \"get_information\": get_information\n",
    "}"
   ]
  },
  {
   "cell_type": "code",
   "execution_count": null,
   "id": "7d3bed9a-d5d1-49c3-b91b-8cd23bb9c9ab",
   "metadata": {},
   "outputs": [],
   "source": [
    "# Definicion de tools\n",
    "tools = [\n",
    "                       cohere.ToolV2(\n",
    "            type=\"function\",\n",
    "            function={\n",
    "        \"name\": \"add_contact\",\n",
    "        \"description\": \"Agrega un nuevo contacto al diccionario con su nombre, teléfono y correo electrónico.\",\n",
    "        \"parameters\": {\n",
    "            \"type\": \"object\",\n",
    "            \"properties\": {\n",
    "                \"name\": {\n",
    "                    \"type\": \"string\",\n",
    "                    \"description\": \"Nombre del contacto (por ejemplo, 'Juan Pérez').\"\n",
    "                },\n",
    "                \"phone\": {\n",
    "                    \"type\": \"string\",\n",
    "                    \"description\": \"Número de teléfono del contacto en formato string (por ejemplo, '1234567890').\"\n",
    "                },\n",
    "                \"email\": {\n",
    "                    \"type\": \"string\",\n",
    "                    \"description\": \"Correo electrónico del contacto (por ejemplo, 'juanperez@gmail.com').\"\n",
    "                }\n",
    "            },\n",
    "            \"required\": [\"name\", \"phone\", \"email\"]\n",
    "        }\n",
    "    }),\n",
    "    cohere.ToolV2(\n",
    "            type=\"function\",\n",
    "            function={\n",
    "        \"name\": \"get_information\",\n",
    "        \"description\": \"Obtiene la información de un contacto existente en el diccionario, incluyendo teléfono y correo.\",\n",
    "        \"parameters\": {\n",
    "            \"type\": \"object\",\n",
    "            \"properties\": {\n",
    "                \"name\": {\n",
    "                    \"type\": \"string\",\n",
    "                    \"description\": \"Nombre del contacto que deseas buscar (por ejemplo, 'Flavio Oncativo').\"\n",
    "                }\n",
    "            },\n",
    "            \"required\": [\"name\"]\n",
    "        }\n",
    "    })\n",
    "]"
   ]
  },
  {
   "cell_type": "code",
   "execution_count": null,
   "id": "6ddaf4d1-6ab9-4707-823d-11ada125b0f2",
   "metadata": {},
   "outputs": [],
   "source": [
    "# instrucciones al modelo\n",
    "system_prompt = \"\"\"\n",
    "vas a ayudar a los usuarios a gestionar una lista de contactos Tu tarea es interpretar consultas en lenguaje natural relacionadas con la administración de contactos y ejecutar las acciones correspondientes.\n",
    "Tienes dos funciones principales disponibles:\n",
    "- add_contact: Para añadir un nuevo contacto con nombre, teléfono y correo electrónico\n",
    "- get_information: Para obtener la información de un contacto existente\n",
    "\"\"\"\n",
    "# instruccion del usuario\n",
    "prompt = \"Guarda a Lucía Gómez en mis contactos. Su teléfono es 555-5678 y su email es lucia.gomez@gmail.com\"\n",
    "\n",
    "messages = [\n",
    "    {\"role\": \"system\", \"content\": system_prompt},\n",
    "    {\"role\": \"user\", \"content\": prompt},\n",
    "]"
   ]
  },
  {
   "cell_type": "code",
   "execution_count": null,
   "id": "19726a73-0e95-4b90-8e14-67ad022a6b3d",
   "metadata": {},
   "outputs": [
    {
     "name": "stdout",
     "output_type": "stream",
     "text": [
      "The model recommends doing the following tool calls:\n",
      "\n",
      "Tool plan:\n",
      "He guardado a Lucía Gómez en tus contactos. \n",
      "\n",
      "Tool calls:\n",
      "Tool name: add_contact | Parameters: {\"email\":\"lucia.gomez@gmail.com\",\"name\":\"Lucía Gómez\",\"phone\":\"555-5678\"}\n"
     ]
    }
   ],
   "source": [
    "co_tools = cohere.ClientV2()\n",
    "\n",
    "response = co_tools.chat(\n",
    "    model=\"command-r-plus-08-2024\",\n",
    "                messages=messages,\n",
    "                   tools=tools)\n",
    "\n",
    "# obtener el tool plan \n",
    "# verificacion de llamada al metodo correcto junto con sus parametros\n",
    "print(\"The model recommends doing the following tool calls:\\n\")\n",
    "print(\"Tool plan:\")\n",
    "print(response.message.tool_plan, \"\\n\")\n",
    "print(\"Tool calls:\")\n",
    "for tc in response.message.tool_calls:\n",
    "    print(f\"Tool name: {tc.function.name} | Parameters: {tc.function.arguments}\")\n",
    "# append the chat history\n",
    "messages.append(\n",
    "    {\n",
    "        \"role\": \"assistant\",\n",
    "        \"tool_calls\": response.message.tool_calls,\n",
    "        \"tool_plan\": response.message.tool_plan,\n",
    "    }\n",
    ")"
   ]
  },
  {
   "cell_type": "code",
   "execution_count": 24,
   "id": "6a2b95d5-f860-479b-832f-94734f855f2b",
   "metadata": {},
   "outputs": [
    {
     "name": "stdout",
     "output_type": "stream",
     "text": [
      "Tool results that will be fed back to the model in step 4:\n",
      "{'type': 'document', 'document': {'data': '\"C\"'}}\n",
      "{'type': 'document', 'document': {'data': '\"o\"'}}\n",
      "{'type': 'document', 'document': {'data': '\"n\"'}}\n",
      "{'type': 'document', 'document': {'data': '\"t\"'}}\n",
      "{'type': 'document', 'document': {'data': '\"a\"'}}\n",
      "{'type': 'document', 'document': {'data': '\"c\"'}}\n",
      "{'type': 'document', 'document': {'data': '\"t\"'}}\n",
      "{'type': 'document', 'document': {'data': '\"o\"'}}\n",
      "{'type': 'document', 'document': {'data': '\" \"'}}\n",
      "{'type': 'document', 'document': {'data': '\"a\"'}}\n",
      "{'type': 'document', 'document': {'data': '\"\\\\u00f1\"'}}\n",
      "{'type': 'document', 'document': {'data': '\"a\"'}}\n",
      "{'type': 'document', 'document': {'data': '\"d\"'}}\n",
      "{'type': 'document', 'document': {'data': '\"i\"'}}\n",
      "{'type': 'document', 'document': {'data': '\"d\"'}}\n",
      "{'type': 'document', 'document': {'data': '\"o\"'}}\n",
      "{'type': 'document', 'document': {'data': '\" \"'}}\n",
      "{'type': 'document', 'document': {'data': '\"c\"'}}\n",
      "{'type': 'document', 'document': {'data': '\"o\"'}}\n",
      "{'type': 'document', 'document': {'data': '\"n\"'}}\n",
      "{'type': 'document', 'document': {'data': '\" \"'}}\n",
      "{'type': 'document', 'document': {'data': '\"\\\\u00e9\"'}}\n",
      "{'type': 'document', 'document': {'data': '\"x\"'}}\n",
      "{'type': 'document', 'document': {'data': '\"i\"'}}\n",
      "{'type': 'document', 'document': {'data': '\"t\"'}}\n",
      "{'type': 'document', 'document': {'data': '\"o\"'}}\n",
      "{'type': 'document', 'document': {'data': '\".\"'}}\n"
     ]
    }
   ],
   "source": [
    "# Ejecutar funcione necesarias\n",
    "for tc in response.message.tool_calls:\n",
    "    tool_result = functions_map[tc.function.name](**json.loads(tc.function.arguments))\n",
    "    tool_content = []\n",
    "    for data in tool_result:\n",
    "        tool_content.append({\"type\": \"document\", \"document\": {\"data\": json.dumps(data)}})\n",
    "    # agregar al historial del chat\n",
    "    messages.append(\n",
    "        {\"role\": \"tool\", \"tool_call_id\": tc.id, \"content\": tool_content}\n",
    "    )\n",
    "    \n",
    "    print(\"Tool results that will be fed back to the model in step 4:\")\n",
    "    for result in tool_content:\n",
    "        print(result)\n"
   ]
  },
  {
   "cell_type": "code",
   "execution_count": null,
   "id": "c36ef67d-dd54-41e7-bef5-f89ee575603f",
   "metadata": {},
   "outputs": [],
   "source": [
    "# TIPS\n",
    "# Probar primero generando una funcion y llamarla, luego anadir la otra\n",
    "# Plantearlo paso por paso en distintas celdas, analizar las salidas y las entradas, como identificamos a que funcion llamar?\n",
    "# luego automatizar dentro de una sola celda\n",
    "\n",
    "\n",
    "# Lo importante es entregar hasta donde lleguen, sea una funcion, las dos pero sin poder hacer el flujo automatico, lo que puedan, siempre y cuando este\n",
    "# claro lo que se quizo hacer con comentarios."
   ]
  },
  {
   "cell_type": "code",
   "execution_count": null,
   "id": "5ace85d2-cd00-4bd4-81e2-68113eb9f8d5",
   "metadata": {},
   "outputs": [
    {
     "name": "stdout",
     "output_type": "stream",
     "text": [
      "[{'role': 'system', 'content': '\\nvas a ayudar a los usuarios a gestionar una lista de contactos Tu tarea es interpretar consultas en lenguaje natural relacionadas con la administración de contactos y ejecutar las acciones correspondientes.\\nTienes dos funciones principales disponibles:\\n- add_contact: Para añadir un nuevo contacto con nombre, teléfono y correo electrónico\\n- get_information: Para obtener la información de un contacto existente\\n'}, {'role': 'user', 'content': 'Guarda a Lucía Gómez en mis contactos. Su teléfono es 555-5678 y su email es lucia.gomez@gmail.com'}, {'role': 'assistant', 'tool_calls': [ToolCallV2(id='add_contact_pnfgaprqe2pz', type='function', function=ToolCallV2Function(name='add_contact', arguments='{\"email\":\"lucia.gomez@gmail.com\",\"name\":\"Lucía Gómez\",\"phone\":\"555-5678\"}'))], 'tool_plan': 'He añadido a Lucía Gómez a tu lista de contactos.'}, {'role': 'tool', 'tool_call_id': 'add_contact_pnfgaprqe2pz', 'content': [{'type': 'document', 'document': {'data': '\"C\"'}}, {'type': 'document', 'document': {'data': '\"o\"'}}, {'type': 'document', 'document': {'data': '\"n\"'}}, {'type': 'document', 'document': {'data': '\"t\"'}}, {'type': 'document', 'document': {'data': '\"a\"'}}, {'type': 'document', 'document': {'data': '\"c\"'}}, {'type': 'document', 'document': {'data': '\"t\"'}}, {'type': 'document', 'document': {'data': '\"o\"'}}, {'type': 'document', 'document': {'data': '\" \"'}}, {'type': 'document', 'document': {'data': '\"a\"'}}, {'type': 'document', 'document': {'data': '\"\\\\u00f1\"'}}, {'type': 'document', 'document': {'data': '\"a\"'}}, {'type': 'document', 'document': {'data': '\"d\"'}}, {'type': 'document', 'document': {'data': '\"i\"'}}, {'type': 'document', 'document': {'data': '\"d\"'}}, {'type': 'document', 'document': {'data': '\"o\"'}}, {'type': 'document', 'document': {'data': '\" \"'}}, {'type': 'document', 'document': {'data': '\"c\"'}}, {'type': 'document', 'document': {'data': '\"o\"'}}, {'type': 'document', 'document': {'data': '\"n\"'}}, {'type': 'document', 'document': {'data': '\" \"'}}, {'type': 'document', 'document': {'data': '\"\\\\u00e9\"'}}, {'type': 'document', 'document': {'data': '\"x\"'}}, {'type': 'document', 'document': {'data': '\"i\"'}}, {'type': 'document', 'document': {'data': '\"t\"'}}, {'type': 'document', 'document': {'data': '\"o\"'}}, {'type': 'document', 'document': {'data': '\".\"'}}]}]\n"
     ]
    }
   ],
   "source": [
    "# Historial de mensajes donde se agrega el tool content\n",
    "print(messages)"
   ]
  },
  {
   "cell_type": "code",
   "execution_count": 25,
   "id": "1bcd9704-3acf-49b1-8274-8d3408062c1c",
   "metadata": {},
   "outputs": [
    {
     "name": "stdout",
     "output_type": "stream",
     "text": [
      "Final answer:\n",
      "He guardado a Lucía Gómez en tus contactos.\n"
     ]
    }
   ],
   "source": [
    "# Respuesta hacia el usuario\n",
    "final_response = co_tools.chat(\n",
    "    model=\"command-r-plus-08-2024\",\n",
    "    messages=messages,\n",
    "    tools=tools\n",
    ")\n",
    "print(\"Final answer:\")\n",
    "print(final_response.message.content[0].text)"
   ]
  },
  {
   "cell_type": "code",
   "execution_count": null,
   "id": "15e57dcf-2b82-4217-a919-c13b6e7584b1",
   "metadata": {},
   "outputs": [
    {
     "name": "stdout",
     "output_type": "stream",
     "text": [
      "The model recommends doing the following tool calls:\n",
      "\n",
      "Tool plan:\n",
      "Buscaré el email de Joaquín López. \n",
      "\n",
      "Tool calls:\n",
      "Tool name: get_information | Parameters: {\"name\":\"Joaquín López\"}\n",
      "Contacto no encontrado.\n",
      "Tool results that will be fed back to the model in step 4:\n",
      "{'type': 'document', 'document': {'data': '\"C\"'}}\n",
      "{'type': 'document', 'document': {'data': '\"o\"'}}\n",
      "{'type': 'document', 'document': {'data': '\"n\"'}}\n",
      "{'type': 'document', 'document': {'data': '\"t\"'}}\n",
      "{'type': 'document', 'document': {'data': '\"a\"'}}\n",
      "{'type': 'document', 'document': {'data': '\"c\"'}}\n",
      "{'type': 'document', 'document': {'data': '\"t\"'}}\n",
      "{'type': 'document', 'document': {'data': '\"o\"'}}\n",
      "{'type': 'document', 'document': {'data': '\" \"'}}\n",
      "{'type': 'document', 'document': {'data': '\"n\"'}}\n",
      "{'type': 'document', 'document': {'data': '\"o\"'}}\n",
      "{'type': 'document', 'document': {'data': '\" \"'}}\n",
      "{'type': 'document', 'document': {'data': '\"e\"'}}\n",
      "{'type': 'document', 'document': {'data': '\"n\"'}}\n",
      "{'type': 'document', 'document': {'data': '\"c\"'}}\n",
      "{'type': 'document', 'document': {'data': '\"o\"'}}\n",
      "{'type': 'document', 'document': {'data': '\"n\"'}}\n",
      "{'type': 'document', 'document': {'data': '\"t\"'}}\n",
      "{'type': 'document', 'document': {'data': '\"r\"'}}\n",
      "{'type': 'document', 'document': {'data': '\"a\"'}}\n",
      "{'type': 'document', 'document': {'data': '\"d\"'}}\n",
      "{'type': 'document', 'document': {'data': '\"o\"'}}\n",
      "{'type': 'document', 'document': {'data': '\".\"'}}\n"
     ]
    }
   ],
   "source": [
    "# Obtener informacion de contacto\n",
    "nuevo_prompt = \"Cual es el email de Joaquin Lopez\"\n",
    "messages.append(\n",
    "        {\"role\": \"user\", \"content\": nuevo_prompt}\n",
    "    )\n",
    "new_response = co_tools.chat(\n",
    "    model=\"command-r-plus-08-2024\",\n",
    "                messages=messages,\n",
    "                   tools= tools)\n",
    "\n",
    "print(\"The model recommends doing the following tool calls:\\n\")\n",
    "print(\"Tool plan:\")\n",
    "print(new_response.message.tool_plan, \"\\n\")\n",
    "print(\"Tool calls:\")\n",
    "for tc in new_response.message.tool_calls:\n",
    "    print(f\"Tool name: {tc.function.name} | Parameters: {tc.function.arguments}\")\n",
    "# append the chat history\n",
    "messages.append(\n",
    "    {\n",
    "        \"role\": \"assistant\",\n",
    "        \"tool_calls\": new_response.message.tool_calls,\n",
    "        \"tool_plan\": new_response.message.tool_plan,\n",
    "    }\n",
    ")\n",
    "for tc in new_response.message.tool_calls:\n",
    "    tool_result = functions_map[tc.function.name](**json.loads(tc.function.arguments))\n",
    "    print(tool_result)\n",
    "    tool_content = []\n",
    "    for data in tool_result:\n",
    "        tool_content.append({\"type\": \"document\", \"document\": {\"data\": json.dumps(data)}})\n",
    "    # agregar al historial del chat\n",
    "    messages.append(\n",
    "        {\"role\": \"tool\", \"tool_call_id\": tc.id, \"content\": tool_content}\n",
    "    )\n",
    "    \n",
    "    print(\"Tool results that will be fed back to the model in step 4:\")\n",
    "    for result in tool_content:\n",
    "        print(result)\n",
    "\n"
   ]
  },
  {
   "cell_type": "code",
   "execution_count": null,
   "id": "14034ddc",
   "metadata": {},
   "outputs": [],
   "source": [
    "# Pude hacer el function callin para la funcion de añadir contacto, pero no llegue a hacer la funcion get_information"
   ]
  },
  {
   "cell_type": "markdown",
   "id": "49bdf109",
   "metadata": {},
   "source": [
    "## Ejercicio 3\n",
    "\n",
    "Crear una funcion llamada \"history_answer\", que toma como parametro de entrada una pregunta sobre un contexto dado y la salida es la respuesta final del proceso impulsado por un LLM.\n",
    "\n",
    "Dada una historia, el usuario podra hacer preguntas sobre la misma y el LLM debe responder siguiendo los siguientes lineamientos:\n",
    "\n",
    "REQUISITOS DE LA RESPUESTA\n",
    "- las respuestas deben ser en base a la historia\n",
    "- ante la misma pregunta siempre debe responder de la misma manera.\n",
    "- que responda en solo una oracion.\n",
    "- el idioma que responde debe ser el mismo que con el que se pregunta (ingles, espanol, portugues).\n",
    "- que agregue emojis en la oracion que resuman el contenido de la misma.\n",
    "- que responda siempre en tercera persona.\n",
    "- si la pregunta no tiene relacion alguna con el contexto, la respuesta debe ser 'Lo siento no puedo ayudarte con eso'.\n",
    "- Responder con 'Hakuna Matata!' al final de **todas** las respuestas (no importa idioma ni cantidad de tokens).\n",
    "\n",
    "**Ayudin**: \n",
    "- No se limiten a usar 1 solo request al LLM, pueden dividirlo en partes para que por un lado se verifique el idioma, por otro lado se verifique si la pregunta tiene relacion con el contexto, etc\n",
    "\n",
    "- Estructuren bien el prompt procurando separar instrucciones, contexto(historia) y pregunta del usuario.\n",
    "\n",
    "- Recuerden usar el system message y user message."
   ]
  },
  {
   "cell_type": "code",
   "execution_count": null,
   "id": "09f36820-b7d3-4813-a0c3-351c598106ec",
   "metadata": {},
   "outputs": [],
   "source": [
    "# ejemplo flojo de estructura de prompt\n",
    "# prompt = f\"Responde a la pregunta: {pregunta} de manera concisa y divertida en base a la siguiente historia: {historia}\""
   ]
  },
  {
   "cell_type": "code",
   "execution_count": 48,
   "id": "c5602f56-4032-4cc6-a2c5-7b29cf2a2a5c",
   "metadata": {},
   "outputs": [],
   "source": [
    "historia = \"\"\"En un pequeño feudo medieval, Thomas, un joven campesino de dieciséis años, trabajaba desde el amanecer en los campos de trigo del señor feudal. El sol apenas había salido cuando él ya había arado más de lo que sus manos podían soportar. La vida era dura, pero su familia dependía de la cosecha para pagar los impuestos y mantener su hogar de madera y paja.\n",
    "\n",
    "Un día, el feudo fue sacudido por noticias de guerra. El rey había llamado a todos los hombres en edad de luchar. Thomas sabía que, al igual que otros jóvenes, no tenía elección. Cambió la hoz por una lanza rudimentaria y se unió a la milicia local. Sin entrenamiento, fue empujado a un campo de batalla embarrado, donde el acero resonaba y los gritos de los hombres llenaban el aire.\n",
    "\n",
    "La batalla fue un caos. Thomas, con el corazón latiendo en su pecho como un tambor de guerra, apenas podía distinguir amigo de enemigo. Logró esquivar una espada, pero cayó al suelo, cubierto de lodo y sangre. Levantándose, vio cómo un compañero caía junto a él, sus ojos abiertos, vacíos.\n",
    "\n",
    "Cuando la batalla terminó, el silencio era tan profundo como el vacío que sentía. Thomas regresó al feudo, diferente, marcado por la muerte y la violencia. Su madre lo recibió con lágrimas en los ojos, pero él, con la mirada fija en el horizonte, sabía que la inocencia había quedado atrás, enterrada en aquel campo de batalla. La paz del feudo ya no era la misma; él tampoco.\"\"\"\n",
    "\n"
   ]
  },
  {
   "cell_type": "code",
   "execution_count": 83,
   "id": "4fa65537-3aa6-43c6-87e9-86a689f8e1d8",
   "metadata": {},
   "outputs": [],
   "source": [
    "def history_answer(pregunta):\n",
    "    # your code here\n",
    "    system_prompt = \"Tu tarea es responder las preguntas de acuerdo al contexto proporcionado\"\n",
    "\n",
    "    prompt = f\"\"\" \n",
    "    ### Instrucciones\n",
    "    - Responder en base a la historia\n",
    "    - Responde en una sola oracion\n",
    "    - Responde en el idioma en el que es la pregunta. (si la pregunta es en español, tu respuesta sera en español. Si la pregunta es en ingles respondes en ingles)\n",
    "    - Si la pregunta no tiene relacion con el contexto responde \"Lo siento no puedo ayudarte con eso.\"\n",
    "    - Al final de la respuesta agruega \"Hakuna Matata!\"\n",
    "    - Agrega emojis en la oracion que resuman el contenido de la misma.\n",
    "    - Respondr siempre en tercera persona.\n",
    "    ### \n",
    "    contexto: {historia}\n",
    "    ###\n",
    "    pregunta: {pregunta}\n",
    "    \"\"\"\n",
    "\n",
    "    response = co.chat(\n",
    "    model=\"command-r-plus-08-2024\",\n",
    "    messages=[\n",
    "        {\"role\": \"system\", \"content\":system_prompt},\n",
    "        {\"role\": \"system\", \"content\":\"Responde en el idioma en el que pregunta el usuario,  si la pregunta es en español respondes en español, si la pregunta es en ingles respondes en ingles, si la pregunta es en portugues respondes en portugues\"},\n",
    "        {\"role\": \"user\", \"content\": prompt}\n",
    "    ],\n",
    "        seed = 10\n",
    "        \n",
    "    )\n",
    "    respuesta_al_usuario = response.message.content[0].text\n",
    "\n",
    "    return respuesta_al_usuario"
   ]
  },
  {
   "cell_type": "code",
   "execution_count": null,
   "id": "f3aaa967-d87f-45d9-9a72-6fc63afc931c",
   "metadata": {},
   "outputs": [
    {
     "name": "stdout",
     "output_type": "stream",
     "text": [
      "Thomas, un joven campesino, trabajaba arduamente en los campos de trigo desde el amanecer, soportando una vida dura para mantener a su familia.\n"
     ]
    }
   ],
   "source": [
    "# primera iteracion con algunas instrucciones\n",
    "pregunta = \"Como era la vida de Thomas antes de la guerra?\"\n",
    "# respuesta\n",
    "print(history_answer(pregunta))"
   ]
  },
  {
   "cell_type": "code",
   "execution_count": null,
   "id": "31f246d9-ec91-498a-a06a-172947316325",
   "metadata": {},
   "outputs": [
    {
     "name": "stdout",
     "output_type": "stream",
     "text": [
      "San Martín no es mencionado en esta historia.\n"
     ]
    }
   ],
   "source": [
    "# pregunta fuera de contexto sin instruccion de respuesta\n",
    "pregunta = \"Quien es San Martin?\"\n",
    "\n",
    "# respuesta\n",
    "print(history_answer(pregunta))"
   ]
  },
  {
   "cell_type": "code",
   "execution_count": 59,
   "id": "795f451e-6c12-4631-895f-fa6ac8f16b74",
   "metadata": {},
   "outputs": [
    {
     "name": "stdout",
     "output_type": "stream",
     "text": [
      "Lo siento, no puedo ayudarte con eso. Hakuna Matata!\n"
     ]
    }
   ],
   "source": [
    "# Respuesta a pregunta fuera de contexto y Hakuna Matata!\n",
    "pregunta = \"Quien es San Martin?\"\n",
    "\n",
    "# respuesta\n",
    "print(history_answer(pregunta))"
   ]
  },
  {
   "cell_type": "code",
   "execution_count": 75,
   "id": "bf250a33-8907-4f37-8cdd-8850f4291e23",
   "metadata": {},
   "outputs": [
    {
     "name": "stdout",
     "output_type": "stream",
     "text": [
      "Thomas é um jovem camponês que, aos dezesseis anos, troca a foice pelo campo de batalha, enfrentando a guerra e perdendo a inocência. 🌾🗡️👦 Hakuna Matata!\n"
     ]
    }
   ],
   "source": [
    "# Respuesta en respectivo idioma\n",
    "pregunta = \"quem é Tomás?\"\n",
    "\n",
    "# respuesta\n",
    "print(history_answer(pregunta))"
   ]
  },
  {
   "cell_type": "code",
   "execution_count": 82,
   "id": "3ad9a98f-83bc-4ea3-a770-e7e10d1b7485",
   "metadata": {},
   "outputs": [
    {
     "name": "stdout",
     "output_type": "stream",
     "text": [
      "️ Thomas é um jovem camponês que, aos 16 anos, trocou o arado pela lança, lutando em uma guerra que mudou sua vida para sempre. 🌾🗡️ Hakuna Matata!\n"
     ]
    }
   ],
   "source": [
    "# seed diferente\n",
    "pregunta = \"quem é Tomás?\"\n",
    "\n",
    "# respuesta\n",
    "print(history_answer(pregunta))"
   ]
  },
  {
   "cell_type": "code",
   "execution_count": 84,
   "id": "47733537-6d13-4502-8bb0-aac08236edc3",
   "metadata": {},
   "outputs": [
    {
     "name": "stdout",
     "output_type": "stream",
     "text": [
      "Thomas é um jovem camponês que, aos dezesseis anos, troca a foice pelo campo de batalha, enfrentando a guerra e perdendo a inocência. 🌾⚔️💔 Hakuna Matata!\n"
     ]
    }
   ],
   "source": [
    "# Misma seed (10)\n",
    "pregunta = \"quem é Tomás?\"\n",
    "\n",
    "# respuesta\n",
    "print(history_answer(pregunta))"
   ]
  },
  {
   "cell_type": "code",
   "execution_count": 85,
   "id": "44fc15e0-6e99-4956-81f0-ea553c202f87",
   "metadata": {},
   "outputs": [
    {
     "name": "stdout",
     "output_type": "stream",
     "text": [
      "Thomas é um jovem camponês que, aos dezesseis anos, troca a foice pelo campo de batalha, enfrentando a guerra e perdendo a inocência. 🌾⚔️💔 Hakuna Matata!\n"
     ]
    }
   ],
   "source": [
    "# Seed 10\n",
    "pregunta = \"quem é Tomás?\"\n",
    "\n",
    "# respuesta\n",
    "print(history_answer(pregunta))"
   ]
  },
  {
   "cell_type": "markdown",
   "id": "db6e9a7d-aa39-4a01-ba55-9a7f4ea39522",
   "metadata": {},
   "source": [
    "## Ejercicio 4\n",
    "\n",
    "Crear un chatbot sencillo impulsado por un LLM. \n",
    "\n",
    "Dicho bot esta destinado a un usuario final y debe cumplir las siguientes **condiciones en sus respuestas**:\n",
    "\n",
    "- Responder en no mas de 70 tokens.\n",
    "- Responder de manera positiva, con un tono entusiasta.\n",
    "- Responder con consejos útiles, como si fueras un tutor.\n",
    "\n",
    " \n",
    "**Otras consideraciones**:\n",
    "\n",
    "Respetar el formato de la interfaz provista por el ejercicio.\n",
    "\n",
    "Ademas agregar al codigo propuesto un historial de conversaciones para que el bot pueda mantener el hilo de lo que se esta hablando. Para probar no usen mas de 3 conversaciones anidadas para no enviarle tantos tokens.\n",
    "\n",
    "Dejar impreso en el notebook el historial de la conversacion."
   ]
  },
  {
   "cell_type": "code",
   "execution_count": 96,
   "id": "5284210f-23a3-4db1-b315-db724a3bb3a5",
   "metadata": {},
   "outputs": [],
   "source": [
    "cb = cohere.ClientV2(api_key)"
   ]
  },
  {
   "cell_type": "code",
   "execution_count": null,
   "id": "aa475fa8-e48b-423e-9006-7478a462129c",
   "metadata": {},
   "outputs": [
    {
     "data": {
      "application/vnd.jupyter.widget-view+json": {
       "model_id": "50992716e5a843eb96c8f7d0922e62d3",
       "version_major": 2,
       "version_minor": 0
      },
      "text/plain": [
       "Text(value='', placeholder='Escribe tu mensaje aquí...')"
      ]
     },
     "metadata": {},
     "output_type": "display_data"
    },
    {
     "data": {
      "application/vnd.jupyter.widget-view+json": {
       "model_id": "2c4feb1bb8e341638bc3f00706d3e2ad",
       "version_major": 2,
       "version_minor": 0
      },
      "text/plain": [
       "Button(description='Enviar', style=ButtonStyle())"
      ]
     },
     "metadata": {},
     "output_type": "display_data"
    },
    {
     "data": {
      "application/vnd.jupyter.widget-view+json": {
       "model_id": "cd14c2ceedd54a8d9ab654838fa32db4",
       "version_major": 2,
       "version_minor": 0
      },
      "text/plain": [
       "Output()"
      ]
     },
     "metadata": {},
     "output_type": "display_data"
    }
   ],
   "source": [
    "# Crear widgets de entrada y salida\n",
    "input_box = widgets.Text(placeholder='Escribe tu mensaje aquí...')\n",
    "send_button = widgets.Button(description='Enviar')\n",
    "output_box = widgets.Output()\n",
    "\n",
    "\n",
    "# instrucciones de alto nivel \n",
    "system_prompt_tutor = \"\"\"\n",
    "### Instrucciones: \n",
    "-Responde de manera positiva y entusiasta\n",
    "- Toma el rol de tutor, responderas con consejos utiles\n",
    "- respuestas concisas y cortas\n",
    "\"\"\"\n",
    "# historial del chat para que el modelo pueda responder en contexto\n",
    "chat_history = [\n",
    "    {\"role\": \"system\", \"content\":system_prompt_tutor},\n",
    "    {\"role\": \"user\", \"content\": \"¿Cuál es el área de un triángulo?\"}, \n",
    "    {\"role\": \"assistant\", \"content\": \"El área de un triángulo se calcula con la fórmula: Área = (base * altura) / 2.\"},\n",
    "    {\"role\": \"user\", \"content\": \"¿Qué es un círculo?\"}, \n",
    "    {\"role\": \"assistant\", \"content\": \"Un círculo es una figura geométrica en la que todos los puntos están a la misma distancia de un punto central, llamado centro.\"}\n",
    "            \n",
    "]\n",
    "# Función de respuesta simulada del chatbot\n",
    "def chatbot_response(message):\n",
    "    # Aquí puedes conectar tu modelo o lógica de chatbot real\n",
    "    query = {\"role\": \"user\", \"content\": message}\n",
    "    chat_history.append(query)\n",
    "    response = cb.chat(\n",
    "        model=\"command-r-plus-08-2024\",\n",
    "        messages=chat_history,\n",
    "        # seteo de tokens maximos\n",
    "        max_tokens = 70\n",
    "    )\n",
    "    chat_history.append(response.message)\n",
    "    return response.message.content[0].text\n",
    "    \n",
    "\n",
    "# Función de manejo del botón\n",
    "def on_send_button_clicked(b):\n",
    "    with output_box:\n",
    "        clear_output(wait=True)\n",
    "        user_message = input_box.value\n",
    "        if user_message.strip():\n",
    "            print(f\"Tú: {user_message}\")\n",
    "            response = chatbot_response(user_message)\n",
    "            print(f\"Chatbot: {response}\")\n",
    "        input_box.value = ''\n",
    "\n",
    "# Asociar función al botón\n",
    "send_button.on_click(on_send_button_clicked)\n",
    "\n",
    "# Mostrar widgets\n",
    "display(input_box, send_button, output_box)"
   ]
  },
  {
   "cell_type": "code",
   "execution_count": null,
   "id": "436d5bce-0189-4ecd-a06d-fcc7a81315b5",
   "metadata": {},
   "outputs": [],
   "source": []
  },
  {
   "cell_type": "code",
   "execution_count": null,
   "id": "4a213283-3ef7-4df8-8b7f-3bb11d58362d",
   "metadata": {},
   "outputs": [
    {
     "name": "stdout",
     "output_type": "stream",
     "text": [
      "[{'role': 'system', 'content': '\\n### Instrucciones: \\n-Responde de manera positiva y entusiasta\\n- Toma el rol de tutor, responderas con consejos utiles\\n- respuestas concisas y cortas\\n'}, {'role': 'user', 'content': '¿Cuál es el área de un triángulo?'}, {'role': 'assistant', 'content': 'El área de un triángulo se calcula con la fórmula: Área = (base * altura) / 2.'}, {'role': 'user', 'content': '¿Qué es un círculo?'}, {'role': 'assistant', 'content': 'Un círculo es una figura geométrica en la que todos los puntos están a la misma distancia de un punto central, llamado centro.'}, {'role': 'user', 'content': 'y como calculo el area de un circulo?'}, AssistantMessageResponse(role='assistant', tool_calls=None, tool_plan=None, content=[TextAssistantMessageResponseContentItem(type='text', text='El área de un círculo se calcula con la fórmula: Área = π * radio^2. Donde π (pi) es una constante aproximadamente igual a 3.14159.')], citations=None)]\n"
     ]
    }
   ],
   "source": [
    "\n",
    "# Mostrar historial del chat completo\n",
    "print(chat_history)"
   ]
  },
  {
   "cell_type": "markdown",
   "id": "c6fb6d6a-1c32-42e5-a1ee-d62b2bc0785a",
   "metadata": {},
   "source": [
    "### RECOMENDACIONES GENERALES\n",
    "\n",
    "No se confien probando con un par de respuestas y ya, hagan minimo 5 pruebas por ejercicio para asi tener mas chances de visualizar errores en la generacion del contenido.\n",
    "\n",
    "Prueben combinar LLMs con programacion convencional para los casos que vean convenientes (decisiones if else, respuestas estaticas, etc)\n",
    "\n",
    "Prueben con distintos modelos de Cohere, hay algunos optimizados para ciertas aplicaciones."
   ]
  },
  {
   "cell_type": "code",
   "execution_count": null,
   "id": "2a3f2e37-bf32-43b7-8958-e39954a20fb1",
   "metadata": {},
   "outputs": [],
   "source": []
  }
 ],
 "metadata": {
  "kernelspec": {
   "display_name": "venv",
   "language": "python",
   "name": "python3"
  },
  "language_info": {
   "codemirror_mode": {
    "name": "ipython",
    "version": 3
   },
   "file_extension": ".py",
   "mimetype": "text/x-python",
   "name": "python",
   "nbconvert_exporter": "python",
   "pygments_lexer": "ipython3",
   "version": "3.12.4"
  }
 },
 "nbformat": 4,
 "nbformat_minor": 5
}
